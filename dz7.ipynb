{
 "cells": [
  {
   "cell_type": "code",
   "execution_count": 2,
   "metadata": {},
   "outputs": [],
   "source": [
    "import numpy as np\n",
    "import scipy.stats as ss\n",
    "import matplotlib.pyplot as plt\n",
    "import matplotlib.mlab as mb"
   ]
  },
  {
   "cell_type": "code",
   "execution_count": 3,
   "metadata": {},
   "outputs": [
    {
     "data": {
      "text/plain": [
       "(0.7820906249999999, 0.005625407272639265)"
      ]
     },
     "execution_count": 3,
     "metadata": {},
     "output_type": "execute_result"
    }
   ],
   "source": [
    "mass1 = 400000\n",
    "mass2 = 300000\n",
    "errormass1 = 500\n",
    "errormass2 = 1000\n",
    "g = 6.67384 * 10**-11\n",
    "Rad = 3.2\n",
    "errorRad = 0.01\n",
    "F = g * mass1 * mass2 / Rad**2\n",
    "errorF = F * np.sqrt((errormass1/mass1)**2 + (errormass2/mass2)**2 + 4 * (errorRad/Rad)**2)\n",
    "F, errorF"
   ]
  },
  {
   "cell_type": "code",
   "execution_count": 4,
   "metadata": {},
   "outputs": [],
   "source": [
    "# Вычислим распределение для значений силы"
   ]
  },
  {
   "cell_type": "code",
   "execution_count": 5,
   "metadata": {},
   "outputs": [],
   "source": [
    "distmass1 = np.random.standard_normal(1000000)*errormass1 + mass1\n",
    "distmass2 = np.random.standard_normal(1000000)*errormass2 + mass2\n",
    "distRad = np.random.standard_normal(1000000)*errorRad + Rad\n",
    "distF = distmass1 * distmass2 * g / distRad**2"
   ]
  },
  {
   "cell_type": "code",
   "execution_count": 9,
   "metadata": {},
   "outputs": [
    {
     "name": "stderr",
     "output_type": "stream",
     "text": [
      "/srv/conda/lib/python3.6/site-packages/ipykernel_launcher.py:2: MatplotlibDeprecationWarning: scipy.stats.norm.pdf\n",
      "  \n"
     ]
    },
    {
     "data": {
      "image/png": "[encoded data removed]",
      "text/plain": [
       "<Figure size 432x288 with 1 Axes>"
      ]
     },
     "metadata": {
      "needs_background": "light"
     },
     "output_type": "display_data"
    }
   ],
   "source": [
    "x = np.arange(F - 3*errorF, F + 3*errorF, 0.0001)\n",
    "plt.plot(x, mb.normpdf(x, F, errorF))\n",
    "plt.hist(distF, normed=True, bins=25, color='pink')\n",
    "plt.show()"
   ]
  },
  {
   "cell_type": "code",
   "execution_count": 15,
   "metadata": {},
   "outputs": [],
   "source": [
    "# Увеличим погрешности"
   ]
  },
  {
   "cell_type": "code",
   "execution_count": 10,
   "metadata": {},
   "outputs": [
    {
     "data": {
      "text/plain": [
       "(0.7820906249999999, 0.5553593043410237)"
      ]
     },
     "execution_count": 10,
     "metadata": {},
     "output_type": "execute_result"
    }
   ],
   "source": [
    "mass1 = 400000\n",
    "mass2 = 300000\n",
    "errormass1 = 20000\n",
    "errormass2 = 100000\n",
    "g = 6.67384 * 10**-11\n",
    "Rad = 3.2\n",
    "errorRad = 1\n",
    "F = g * mass1 * mass2 / Rad**2\n",
    "errorF = F * np.sqrt((errormass1/mass1)**2 + (errormass2/mass2)**2 + 4 * (errorRad/Rad)**2)\n",
    "F, errorF"
   ]
  },
  {
   "cell_type": "code",
   "execution_count": 18,
   "metadata": {},
   "outputs": [],
   "source": [
    "# Посмотрим, как поведет себя Монте-Карло"
   ]
  },
  {
   "cell_type": "code",
   "execution_count": 11,
   "metadata": {},
   "outputs": [],
   "source": [
    "distmass1 = np.random.standard_normal(1000000)*errormass1 + mass1\n",
    "distmass2 = np.random.standard_normal(1000000)*errormass2 + mass2\n",
    "distRad = np.random.standard_normal(1000000)*errorRad + Rad\n",
    "distF = distmass1 * distmass2 * g / distRad**2"
   ]
  },
  {
   "cell_type": "code",
   "execution_count": 12,
   "metadata": {},
   "outputs": [
    {
     "name": "stderr",
     "output_type": "stream",
     "text": [
      "/srv/conda/lib/python3.6/site-packages/ipykernel_launcher.py:2: MatplotlibDeprecationWarning: scipy.stats.norm.pdf\n",
      "  \n"
     ]
    },
    {
     "data": {
      "image/png": "[encoded data removed]",
      "text/plain": [
       "<Figure size 432x288 with 1 Axes>"
      ]
     },
     "metadata": {
      "needs_background": "light"
     },
     "output_type": "display_data"
    }
   ],
   "source": [
    "x = np.arange(F - 3*errorF, F + 3*errorF, 0.0001)\n",
    "plt.plot(x, mb.normpdf(x, F, errorF))\n",
    "plt.hist(distF, normed=True, bins=25)\n",
    "plt.show()"
   ]
  },
  {
   "cell_type": "code",
   "execution_count": 21,
   "metadata": {},
   "outputs": [],
   "source": [
    "# Неадекватно :с"
   ]
  },
  {
   "cell_type": "code",
   "execution_count": null,
   "metadata": {},
   "outputs": [],
   "source": []
  }
 ],
 "metadata": {
  "kernelspec": {
   "display_name": "Python 3",
   "language": "python",
   "name": "python3"
  },
  "language_info": {
   "codemirror_mode": {
    "name": "ipython",
    "version": 3
   },
   "file_extension": ".py",
   "mimetype": "text/x-python",
   "name": "python",
   "nbconvert_exporter": "python",
   "pygments_lexer": "ipython3",
   "version": "3.6.7"
  }
 },
 "nbformat": 4,
 "nbformat_minor": 2
}
